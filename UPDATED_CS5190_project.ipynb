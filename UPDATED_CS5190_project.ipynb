{
  "cells": [
    {
      "cell_type": "code",
      "execution_count": null,
      "metadata": {
        "colab": {
          "base_uri": "https://localhost:8080/"
        },
        "id": "ufZM2Tg8MCwW",
        "outputId": "a4ac495a-24f1-4d0c-b83e-bcc1715e41bc"
      },
      "outputs": [
        {
          "output_type": "stream",
          "name": "stdout",
          "text": [
            "Looking in indexes: https://pypi.org/simple, https://us-python.pkg.dev/colab-wheels/public/simple/\n",
            "Collecting scikit-surprise\n",
            "  Downloading scikit-surprise-1.1.3.tar.gz (771 kB)\n",
            "\u001b[2K     \u001b[90m━━━━━━━━━━━━━━━━━━━━━━━━━━━━━━━━━━━━━━\u001b[0m \u001b[32m772.0/772.0 kB\u001b[0m \u001b[31m12.3 MB/s\u001b[0m eta \u001b[36m0:00:00\u001b[0m\n",
            "\u001b[?25h  Preparing metadata (setup.py) ... \u001b[?25l\u001b[?25hdone\n",
            "Requirement already satisfied: joblib>=1.0.0 in /usr/local/lib/python3.9/dist-packages (from scikit-surprise) (1.2.0)\n",
            "Requirement already satisfied: numpy>=1.17.3 in /usr/local/lib/python3.9/dist-packages (from scikit-surprise) (1.22.4)\n",
            "Requirement already satisfied: scipy>=1.3.2 in /usr/local/lib/python3.9/dist-packages (from scikit-surprise) (1.10.1)\n",
            "Building wheels for collected packages: scikit-surprise\n",
            "  Building wheel for scikit-surprise (setup.py) ... \u001b[?25l\u001b[?25hdone\n",
            "  Created wheel for scikit-surprise: filename=scikit_surprise-1.1.3-cp39-cp39-linux_x86_64.whl size=3195819 sha256=18ec5faa87a0dbf2ecd77272de4370a1898d935c54b5e670cf3fb4b23a839031\n",
            "  Stored in directory: /root/.cache/pip/wheels/c6/3a/46/9b17b3512bdf283c6cb84f59929cdd5199d4e754d596d22784\n",
            "Successfully built scikit-surprise\n",
            "Installing collected packages: scikit-surprise\n",
            "Successfully installed scikit-surprise-1.1.3\n"
          ]
        }
      ],
      "source": [
        "!pip install scikit-surprise"
      ]
    },
    {
      "cell_type": "code",
      "execution_count": null,
      "metadata": {
        "id": "xFWWvLbW3xX2"
      },
      "outputs": [],
      "source": [
        "import pandas as pd\n",
        "from collections import defaultdict\n",
        "from surprise import KNNWithMeans\n",
        "from surprise import SVD, SVDpp\n",
        "from surprise import KNNBaseline\n",
        "from surprise import KNNBasic\n",
        "from surprise import KNNWithZScore\n",
        "from surprise import BaselineOnly\n",
        "from surprise import Dataset\n",
        "from surprise import Reader\n",
        "from surprise import accuracy\n",
        "from surprise.model_selection import train_test_split\n",
        "from surprise.model_selection import cross_validate\n",
        "from surprise.model_selection import KFold\n",
        "from surprise.model_selection import GridSearchCV, RandomizedSearchCV\n",
        "import matplotlib.pyplot as plt"
      ]
    },
    {
      "cell_type": "markdown",
      "metadata": {
        "id": "vJVpkugjNiSW"
      },
      "source": [
        "#Cleaning and filtering the data"
      ]
    },
    {
      "cell_type": "code",
      "execution_count": null,
      "metadata": {
        "id": "PpFIMRzK34bf"
      },
      "outputs": [],
      "source": [
        "df = pd.read_csv('ratings_Electronics.csv', header=0,\n",
        "                 names = ['UserId', 'ProductId', 'Rating', 'Timestamp'])"
      ]
    },
    {
      "cell_type": "code",
      "execution_count": null,
      "metadata": {
        "colab": {
          "base_uri": "https://localhost:8080/",
          "height": 206
        },
        "id": "aeEv6JsE5WxU",
        "outputId": "196e20db-9dea-47e4-b1c5-7980ac372271"
      },
      "outputs": [
        {
          "output_type": "execute_result",
          "data": {
            "text/plain": [
              "           UserId   ProductId  Rating     Timestamp\n",
              "0  A2CX7LUOHB2NDG  0321732944     5.0  1.341101e+09\n",
              "1  A2NWSAGRHCP8N5  0439886341     1.0  1.367194e+09\n",
              "2  A2WNBOD3WNDNKT  0439886341     3.0  1.374451e+09\n",
              "3  A1GI0U4ZRJA8WN  0439886341     1.0  1.334707e+09\n",
              "4  A1QGNMC6O1VW39  0511189877     5.0  1.397434e+09"
            ],
            "text/html": [
              "\n",
              "  <div id=\"df-28b32b19-5ca6-4e96-af7b-72ff1530ecf7\">\n",
              "    <div class=\"colab-df-container\">\n",
              "      <div>\n",
              "<style scoped>\n",
              "    .dataframe tbody tr th:only-of-type {\n",
              "        vertical-align: middle;\n",
              "    }\n",
              "\n",
              "    .dataframe tbody tr th {\n",
              "        vertical-align: top;\n",
              "    }\n",
              "\n",
              "    .dataframe thead th {\n",
              "        text-align: right;\n",
              "    }\n",
              "</style>\n",
              "<table border=\"1\" class=\"dataframe\">\n",
              "  <thead>\n",
              "    <tr style=\"text-align: right;\">\n",
              "      <th></th>\n",
              "      <th>UserId</th>\n",
              "      <th>ProductId</th>\n",
              "      <th>Rating</th>\n",
              "      <th>Timestamp</th>\n",
              "    </tr>\n",
              "  </thead>\n",
              "  <tbody>\n",
              "    <tr>\n",
              "      <th>0</th>\n",
              "      <td>A2CX7LUOHB2NDG</td>\n",
              "      <td>0321732944</td>\n",
              "      <td>5.0</td>\n",
              "      <td>1.341101e+09</td>\n",
              "    </tr>\n",
              "    <tr>\n",
              "      <th>1</th>\n",
              "      <td>A2NWSAGRHCP8N5</td>\n",
              "      <td>0439886341</td>\n",
              "      <td>1.0</td>\n",
              "      <td>1.367194e+09</td>\n",
              "    </tr>\n",
              "    <tr>\n",
              "      <th>2</th>\n",
              "      <td>A2WNBOD3WNDNKT</td>\n",
              "      <td>0439886341</td>\n",
              "      <td>3.0</td>\n",
              "      <td>1.374451e+09</td>\n",
              "    </tr>\n",
              "    <tr>\n",
              "      <th>3</th>\n",
              "      <td>A1GI0U4ZRJA8WN</td>\n",
              "      <td>0439886341</td>\n",
              "      <td>1.0</td>\n",
              "      <td>1.334707e+09</td>\n",
              "    </tr>\n",
              "    <tr>\n",
              "      <th>4</th>\n",
              "      <td>A1QGNMC6O1VW39</td>\n",
              "      <td>0511189877</td>\n",
              "      <td>5.0</td>\n",
              "      <td>1.397434e+09</td>\n",
              "    </tr>\n",
              "  </tbody>\n",
              "</table>\n",
              "</div>\n",
              "      <button class=\"colab-df-convert\" onclick=\"convertToInteractive('df-28b32b19-5ca6-4e96-af7b-72ff1530ecf7')\"\n",
              "              title=\"Convert this dataframe to an interactive table.\"\n",
              "              style=\"display:none;\">\n",
              "        \n",
              "  <svg xmlns=\"http://www.w3.org/2000/svg\" height=\"24px\"viewBox=\"0 0 24 24\"\n",
              "       width=\"24px\">\n",
              "    <path d=\"M0 0h24v24H0V0z\" fill=\"none\"/>\n",
              "    <path d=\"M18.56 5.44l.94 2.06.94-2.06 2.06-.94-2.06-.94-.94-2.06-.94 2.06-2.06.94zm-11 1L8.5 8.5l.94-2.06 2.06-.94-2.06-.94L8.5 2.5l-.94 2.06-2.06.94zm10 10l.94 2.06.94-2.06 2.06-.94-2.06-.94-.94-2.06-.94 2.06-2.06.94z\"/><path d=\"M17.41 7.96l-1.37-1.37c-.4-.4-.92-.59-1.43-.59-.52 0-1.04.2-1.43.59L10.3 9.45l-7.72 7.72c-.78.78-.78 2.05 0 2.83L4 21.41c.39.39.9.59 1.41.59.51 0 1.02-.2 1.41-.59l7.78-7.78 2.81-2.81c.8-.78.8-2.07 0-2.86zM5.41 20L4 18.59l7.72-7.72 1.47 1.35L5.41 20z\"/>\n",
              "  </svg>\n",
              "      </button>\n",
              "      \n",
              "  <style>\n",
              "    .colab-df-container {\n",
              "      display:flex;\n",
              "      flex-wrap:wrap;\n",
              "      gap: 12px;\n",
              "    }\n",
              "\n",
              "    .colab-df-convert {\n",
              "      background-color: #E8F0FE;\n",
              "      border: none;\n",
              "      border-radius: 50%;\n",
              "      cursor: pointer;\n",
              "      display: none;\n",
              "      fill: #1967D2;\n",
              "      height: 32px;\n",
              "      padding: 0 0 0 0;\n",
              "      width: 32px;\n",
              "    }\n",
              "\n",
              "    .colab-df-convert:hover {\n",
              "      background-color: #E2EBFA;\n",
              "      box-shadow: 0px 1px 2px rgba(60, 64, 67, 0.3), 0px 1px 3px 1px rgba(60, 64, 67, 0.15);\n",
              "      fill: #174EA6;\n",
              "    }\n",
              "\n",
              "    [theme=dark] .colab-df-convert {\n",
              "      background-color: #3B4455;\n",
              "      fill: #D2E3FC;\n",
              "    }\n",
              "\n",
              "    [theme=dark] .colab-df-convert:hover {\n",
              "      background-color: #434B5C;\n",
              "      box-shadow: 0px 1px 3px 1px rgba(0, 0, 0, 0.15);\n",
              "      filter: drop-shadow(0px 1px 2px rgba(0, 0, 0, 0.3));\n",
              "      fill: #FFFFFF;\n",
              "    }\n",
              "  </style>\n",
              "\n",
              "      <script>\n",
              "        const buttonEl =\n",
              "          document.querySelector('#df-28b32b19-5ca6-4e96-af7b-72ff1530ecf7 button.colab-df-convert');\n",
              "        buttonEl.style.display =\n",
              "          google.colab.kernel.accessAllowed ? 'block' : 'none';\n",
              "\n",
              "        async function convertToInteractive(key) {\n",
              "          const element = document.querySelector('#df-28b32b19-5ca6-4e96-af7b-72ff1530ecf7');\n",
              "          const dataTable =\n",
              "            await google.colab.kernel.invokeFunction('convertToInteractive',\n",
              "                                                     [key], {});\n",
              "          if (!dataTable) return;\n",
              "\n",
              "          const docLinkHtml = 'Like what you see? Visit the ' +\n",
              "            '<a target=\"_blank\" href=https://colab.research.google.com/notebooks/data_table.ipynb>data table notebook</a>'\n",
              "            + ' to learn more about interactive tables.';\n",
              "          element.innerHTML = '';\n",
              "          dataTable['output_type'] = 'display_data';\n",
              "          await google.colab.output.renderOutput(dataTable, element);\n",
              "          const docLink = document.createElement('div');\n",
              "          docLink.innerHTML = docLinkHtml;\n",
              "          element.appendChild(docLink);\n",
              "        }\n",
              "      </script>\n",
              "    </div>\n",
              "  </div>\n",
              "  "
            ]
          },
          "metadata": {},
          "execution_count": 9
        }
      ],
      "source": [
        "df.head()"
      ]
    },
    {
      "cell_type": "code",
      "execution_count": null,
      "metadata": {
        "colab": {
          "base_uri": "https://localhost:8080/"
        },
        "id": "0cs7JEky4DTU",
        "outputId": "aecd908f-4d83-4b8b-d640-212f74d38597"
      },
      "outputs": [
        {
          "output_type": "stream",
          "name": "stdout",
          "text": [
            "Total Number of rows : 7824481\n",
            "Total Number of columns : 4\n"
          ]
        }
      ],
      "source": [
        "print('Total Number of rows :', df.shape[0])\n",
        "print('Total Number of columns :', df.shape[1])"
      ]
    },
    {
      "cell_type": "code",
      "execution_count": null,
      "metadata": {
        "colab": {
          "base_uri": "https://localhost:8080/"
        },
        "id": "wwUpfXuW5j8R",
        "outputId": "02571708-fd30-4bce-8ff4-da754246e943"
      },
      "outputs": [
        {
          "data": {
            "text/plain": [
              "UserId        object\n",
              "ProductId     object\n",
              "Rating       float64\n",
              "Timestamp    float64\n",
              "dtype: object"
            ]
          },
          "execution_count": 12,
          "metadata": {},
          "output_type": "execute_result"
        }
      ],
      "source": [
        "df.dtypes"
      ]
    },
    {
      "cell_type": "code",
      "execution_count": null,
      "metadata": {
        "colab": {
          "base_uri": "https://localhost:8080/"
        },
        "id": "0sR4OlEq5JRy",
        "outputId": "0e8f9610-7f77-4fd4-a432-06c3148c6caf"
      },
      "outputs": [
        {
          "output_type": "stream",
          "name": "stdout",
          "text": [
            "UserId       0\n",
            "ProductId    0\n",
            "Rating       0\n",
            "Timestamp    0\n",
            "dtype: int64\n"
          ]
        }
      ],
      "source": [
        "# drop missing values\n",
        "print(df.isnull().sum())"
      ]
    },
    {
      "cell_type": "code",
      "execution_count": null,
      "metadata": {
        "colab": {
          "base_uri": "https://localhost:8080/"
        },
        "id": "ISR8_rdpI8cu",
        "outputId": "be96f857-c45a-46fe-bb3a-3028b371c997"
      },
      "outputs": [
        {
          "output_type": "execute_result",
          "data": {
            "text/plain": [
              "0"
            ]
          },
          "metadata": {},
          "execution_count": 56
        }
      ],
      "source": [
        "# drop duplicates\n",
        "df.duplicated().sum()"
      ]
    },
    {
      "cell_type": "markdown",
      "source": [
        "#Finding user ratings count threshold"
      ],
      "metadata": {
        "id": "z6E0Q4DaiKZ6"
      }
    },
    {
      "cell_type": "code",
      "execution_count": null,
      "metadata": {
        "colab": {
          "base_uri": "https://localhost:8080/"
        },
        "id": "v5vVsXaShQI3",
        "outputId": "b9e24caa-3459-48c6-8dc1-8d456cf81001"
      },
      "outputs": [
        {
          "output_type": "stream",
          "name": "stdout",
          "text": [
            "1.0414056037318766\n",
            "{'n_epochs': 25, 'lr_all': 0.007, 'reg_all': 0.4}\n",
            "1.0057007165737393\n",
            "{'n_epochs': 20, 'lr_all': 0.009, 'reg_all': 0.4}\n",
            "0.9747930912945879\n",
            "{'n_epochs': 25, 'lr_all': 0.007, 'reg_all': 0.4}\n",
            "0.9476118473782742\n",
            "{'n_epochs': 25, 'lr_all': 0.009, 'reg_all': 0.4}\n",
            "0.9278294451400013\n",
            "{'n_epochs': 25, 'lr_all': 0.009, 'reg_all': 0.4}\n",
            "0.910665137356031\n",
            "{'n_epochs': 25, 'lr_all': 0.01, 'reg_all': 0.4}\n",
            "0.8976015470728427\n",
            "{'n_epochs': 25, 'lr_all': 0.01, 'reg_all': 0.4}\n",
            "0.8865481831057067\n",
            "{'n_epochs': 25, 'lr_all': 0.01, 'reg_all': 0.4}\n",
            "0.8699114959374074\n",
            "{'n_epochs': 25, 'lr_all': 0.01, 'reg_all': 0.4}\n"
          ]
        }
      ],
      "source": [
        "test_user = [10, 15 , 20, 25, 30, 35, 40, 45, 50]\n",
        "accuracies =[]\n",
        "best_params = []\n",
        "\n",
        "for t in test_user:\n",
        "  # filtering\n",
        "  # taking only users who have given more than 30 ratings\n",
        "  df_copy = df.copy()\n",
        "  users_counts = df_copy['UserId'].value_counts().rename('users_counts')\n",
        "  users_data   = df_copy.merge(users_counts,left_on='UserId',right_index=True)\n",
        "  df_filtered = users_data[users_data.users_counts >= t]\n",
        "\n",
        "\n",
        "  # taking only products which have received 10 or more ratings\n",
        "  rating_counts = df_filtered['ProductId'].value_counts().rename('rating_counts')\n",
        "  product_rating_data   = df_filtered.merge(rating_counts,left_on='ProductId',right_index=True)\n",
        "  df_filtered_final = product_rating_data[product_rating_data.rating_counts >= 10]\n",
        "\n",
        "\n",
        "  data = df_filtered_final.drop(['users_counts', 'rating_counts'], axis=1)\n",
        "\n",
        "  reader = Reader(rating_scale=(1, 5))\n",
        "  surprise_data = Dataset.load_from_df(data[['UserId', 'ProductId', 'Rating']], reader)\n",
        "  trainset, testset = train_test_split(surprise_data, test_size=.30, random_state=7)\n",
        "\n",
        "  svd_param_grid = {'n_epochs': [20, 25], 'lr_all': [0.007, 0.009, 0.01], 'reg_all': [0.4, 0.6]}\n",
        "\n",
        "  svd_gs = RandomizedSearchCV(SVD, svd_param_grid, measures=['rmse', 'mae'], cv=5, n_jobs=5)\n",
        "  #GridSearchCV(SVD, svd_param_grid, measures=['rmse', 'mae'], cv=5, n_jobs=5)\n",
        "  #svdpp_gs = GridSearchCV(SVDpp, svd_param_grid, measures=['rmse', 'mae'], cv=5, n_jobs=5)\n",
        "\n",
        "  svd_gs.fit(surprise_data)\n",
        "  #svdpp_gs.fit(surprise_data)\n",
        "\n",
        "  # best RMSE score\n",
        "  accuracies.append(svd_gs.best_score['rmse'])\n",
        "  print(svd_gs.best_score['rmse'])\n",
        "  #print(svdpp_gs.best_score['rmse'])\n",
        "\n",
        "  # combination of parameters that gave the best RMSE score\n",
        "  best_params.append(svd_gs.best_params['rmse'])\n",
        "  print(svd_gs.best_params['rmse'])\n",
        "  #print(svdpp_gs.best_params['rmse'])"
      ]
    },
    {
      "cell_type": "code",
      "execution_count": null,
      "metadata": {
        "colab": {
          "base_uri": "https://localhost:8080/",
          "height": 489
        },
        "id": "bgk_QDeY0pyi",
        "outputId": "b99ab562-23ef-4fe5-b1ce-515897a6b79b"
      },
      "outputs": [
        {
          "data": {
            "text/plain": [
              "Text(0.5, 1.0, 'User ratings count threshold vs RMSE')"
            ]
          },
          "execution_count": 38,
          "metadata": {},
          "output_type": "execute_result"
        },
        {
          "data": {
            "image/png": "[encoded data removed]",
            "text/plain": [
              "<Figure size 640x480 with 1 Axes>"
            ]
          },
          "metadata": {},
          "output_type": "display_data"
        }
      ],
      "source": [
        "plt.plot(test_user, accuracies)\n",
        "plt.xlabel('user ratings count threshold')\n",
        "plt.ylabel('RMSE')\n",
        "plt.title('User ratings count threshold vs RMSE')"
      ]
    },
    {
      "cell_type": "markdown",
      "source": [
        "#Finding product ratings count threshold"
      ],
      "metadata": {
        "id": "xo6paIURiSRp"
      }
    },
    {
      "cell_type": "code",
      "execution_count": null,
      "metadata": {
        "colab": {
          "base_uri": "https://localhost:8080/"
        },
        "id": "0YNEJiwTmiCl",
        "outputId": "08ce6a12-abb5-4b13-b922-dfb9658f5d7f"
      },
      "outputs": [
        {
          "name": "stdout",
          "output_type": "stream",
          "text": [
            "0.894169195239771\n",
            "{'n_epochs': 25, 'lr_all': 0.01, 'reg_all': 0.4}\n",
            "0.8709595872049098\n",
            "{'n_epochs': 25, 'lr_all': 0.009, 'reg_all': 0.4}\n",
            "0.8568366142208992\n",
            "{'n_epochs': 25, 'lr_all': 0.01, 'reg_all': 0.4}\n",
            "0.8522008752989259\n",
            "{'n_epochs': 20, 'lr_all': 0.01, 'reg_all': 0.4}\n"
          ]
        }
      ],
      "source": [
        "test_product = [5, 10 , 15, 20]\n",
        "rmse =[]\n",
        "best_params2 = []\n",
        "\n",
        "for t in test_product:\n",
        "  # filtering\n",
        "  # taking only users who have given more than 30 ratings\n",
        "  df_copy = df.copy()\n",
        "  users_counts = df_copy['UserId'].value_counts().rename('users_counts')\n",
        "  users_data   = df_copy.merge(users_counts,left_on='UserId',right_index=True)\n",
        "  df_filtered = users_data[users_data.users_counts >= 50]\n",
        "\n",
        "\n",
        "  # taking only products which have received 10 or more ratings\n",
        "  rating_counts = df_filtered['ProductId'].value_counts().rename('rating_counts')\n",
        "  product_rating_data   = df_filtered.merge(rating_counts,left_on='ProductId',right_index=True)\n",
        "  df_filtered_final = product_rating_data[product_rating_data.rating_counts >= t]\n",
        "\n",
        "\n",
        "  data = df_filtered_final.drop(['users_counts', 'rating_counts'], axis=1)\n",
        "\n",
        "  reader = Reader(rating_scale=(1, 5))\n",
        "  surprise_data = Dataset.load_from_df(data[['UserId', 'ProductId', 'Rating']], reader)\n",
        "  trainset, testset = train_test_split(surprise_data, test_size=.30, random_state=7)\n",
        "\n",
        "  svd_param_grid = {'n_epochs': [20, 25], 'lr_all': [0.007, 0.009, 0.01], 'reg_all': [0.4, 0.6]}\n",
        "\n",
        "  svd_gs = RandomizedSearchCV(SVD, svd_param_grid, measures=['rmse', 'mae'], cv=5, n_jobs=5)\n",
        "  #GridSearchCV(SVD, svd_param_grid, measures=['rmse', 'mae'], cv=5, n_jobs=5)\n",
        "  #svdpp_gs = GridSearchCV(SVDpp, svd_param_grid, measures=['rmse', 'mae'], cv=5, n_jobs=5)\n",
        "\n",
        "  svd_gs.fit(surprise_data)\n",
        "  #svdpp_gs.fit(surprise_data)\n",
        "\n",
        "  # best RMSE score\n",
        "  rmse.append(svd_gs.best_score['rmse'])\n",
        "  print(svd_gs.best_score['rmse'])\n",
        "  #print(svdpp_gs.best_score['rmse'])\n",
        "\n",
        "  # combination of parameters that gave the best RMSE score\n",
        "  best_params2.append(svd_gs.best_params['rmse'])\n",
        "  print(svd_gs.best_params['rmse'])\n",
        "  #print(svdpp_gs.best_params['rmse'])"
      ]
    },
    {
      "cell_type": "code",
      "execution_count": null,
      "metadata": {
        "colab": {
          "base_uri": "https://localhost:8080/",
          "height": 489
        },
        "id": "l0B2WOWZ15KM",
        "outputId": "6386c69f-4b80-4a45-8816-e58e9f69713f"
      },
      "outputs": [
        {
          "data": {
            "text/plain": [
              "Text(0.5, 1.0, 'Product ratings count threshold vs RMSE')"
            ]
          },
          "execution_count": 39,
          "metadata": {},
          "output_type": "execute_result"
        },
        {
          "data": {
            "image/png": "[encoded data removed]",
            "text/plain": [
              "<Figure size 640x480 with 1 Axes>"
            ]
          },
          "metadata": {},
          "output_type": "display_data"
        }
      ],
      "source": [
        "plt.plot(test_product, rmse)\n",
        "plt.xlabel('product ratings count threshold')\n",
        "plt.ylabel('RMSE')\n",
        "plt.title('Product ratings count threshold vs RMSE')"
      ]
    },
    {
      "cell_type": "code",
      "execution_count": null,
      "metadata": {
        "id": "MKA8CVwrJHvk"
      },
      "outputs": [],
      "source": [
        "# filtering\n",
        "# taking only users who have given more than 30 ratings\n",
        "users_counts = df['UserId'].value_counts().rename('users_counts')\n",
        "users_data   = df.merge(users_counts,left_on='UserId',right_index=True)\n",
        "df_filtered = users_data[users_data.users_counts >= 50]\n",
        "\n",
        "\n",
        "# taking only products which have received 10 or more ratings\n",
        "rating_counts = df_filtered['ProductId'].value_counts().rename('rating_counts')\n",
        "product_rating_data   = df_filtered.merge(rating_counts,left_on='ProductId',right_index=True)\n",
        "df_filtered_final = product_rating_data[product_rating_data.rating_counts >= 15]\n",
        "\n",
        "\n",
        "data = df_filtered_final.drop(['users_counts', 'rating_counts'], axis=1)"
      ]
    },
    {
      "cell_type": "code",
      "execution_count": null,
      "metadata": {
        "colab": {
          "base_uri": "https://localhost:8080/"
        },
        "id": "803nKV5o4dfN",
        "outputId": "a3076121-93f9-4da0-f85e-1f7ed3e375ca"
      },
      "outputs": [
        {
          "output_type": "execute_result",
          "data": {
            "text/plain": [
              "(33830, 4)"
            ]
          },
          "metadata": {},
          "execution_count": 13
        }
      ],
      "source": [
        "data.shape"
      ]
    },
    {
      "cell_type": "code",
      "execution_count": null,
      "metadata": {
        "colab": {
          "base_uri": "https://localhost:8080/",
          "height": 206
        },
        "id": "dy9nCZp9LO2F",
        "outputId": "e73daa63-50a9-450b-d9d6-6f05768bfbf2"
      },
      "outputs": [
        {
          "data": {
            "text/html": [
              "\n",
              "  <div id=\"df-991da281-aeec-42d0-beb5-8d1883245781\">\n",
              "    <div class=\"colab-df-container\">\n",
              "      <div>\n",
              "<style scoped>\n",
              "    .dataframe tbody tr th:only-of-type {\n",
              "        vertical-align: middle;\n",
              "    }\n",
              "\n",
              "    .dataframe tbody tr th {\n",
              "        vertical-align: top;\n",
              "    }\n",
              "\n",
              "    .dataframe thead th {\n",
              "        text-align: right;\n",
              "    }\n",
              "</style>\n",
              "<table border=\"1\" class=\"dataframe\">\n",
              "  <thead>\n",
              "    <tr style=\"text-align: right;\">\n",
              "      <th></th>\n",
              "      <th>UserId</th>\n",
              "      <th>ProductId</th>\n",
              "      <th>Rating</th>\n",
              "      <th>Timestamp</th>\n",
              "    </tr>\n",
              "  </thead>\n",
              "  <tbody>\n",
              "    <tr>\n",
              "      <th>1141327</th>\n",
              "      <td>A17HMM1M7T9PJ1</td>\n",
              "      <td>B000LRMS66</td>\n",
              "      <td>3.0</td>\n",
              "      <td>1.266019e+09</td>\n",
              "    </tr>\n",
              "    <tr>\n",
              "      <th>1133863</th>\n",
              "      <td>A1T1YSCDW0PD25</td>\n",
              "      <td>B000LRMS66</td>\n",
              "      <td>5.0</td>\n",
              "      <td>1.237507e+09</td>\n",
              "    </tr>\n",
              "    <tr>\n",
              "      <th>1140490</th>\n",
              "      <td>A6FIAB28IS79</td>\n",
              "      <td>B000LRMS66</td>\n",
              "      <td>4.0</td>\n",
              "      <td>1.197158e+09</td>\n",
              "    </tr>\n",
              "    <tr>\n",
              "      <th>1134091</th>\n",
              "      <td>A2HMF8ZR67BNZS</td>\n",
              "      <td>B000LRMS66</td>\n",
              "      <td>5.0</td>\n",
              "      <td>1.248998e+09</td>\n",
              "    </tr>\n",
              "    <tr>\n",
              "      <th>1141505</th>\n",
              "      <td>A1F9Z42CFF9IAY</td>\n",
              "      <td>B000LRMS66</td>\n",
              "      <td>5.0</td>\n",
              "      <td>1.208304e+09</td>\n",
              "    </tr>\n",
              "  </tbody>\n",
              "</table>\n",
              "</div>\n",
              "      <button class=\"colab-df-convert\" onclick=\"convertToInteractive('df-991da281-aeec-42d0-beb5-8d1883245781')\"\n",
              "              title=\"Convert this dataframe to an interactive table.\"\n",
              "              style=\"display:none;\">\n",
              "        \n",
              "  <svg xmlns=\"http://www.w3.org/2000/svg\" height=\"24px\"viewBox=\"0 0 24 24\"\n",
              "       width=\"24px\">\n",
              "    <path d=\"M0 0h24v24H0V0z\" fill=\"none\"/>\n",
              "    <path d=\"M18.56 5.44l.94 2.06.94-2.06 2.06-.94-2.06-.94-.94-2.06-.94 2.06-2.06.94zm-11 1L8.5 8.5l.94-2.06 2.06-.94-2.06-.94L8.5 2.5l-.94 2.06-2.06.94zm10 10l.94 2.06.94-2.06 2.06-.94-2.06-.94-.94-2.06-.94 2.06-2.06.94z\"/><path d=\"M17.41 7.96l-1.37-1.37c-.4-.4-.92-.59-1.43-.59-.52 0-1.04.2-1.43.59L10.3 9.45l-7.72 7.72c-.78.78-.78 2.05 0 2.83L4 21.41c.39.39.9.59 1.41.59.51 0 1.02-.2 1.41-.59l7.78-7.78 2.81-2.81c.8-.78.8-2.07 0-2.86zM5.41 20L4 18.59l7.72-7.72 1.47 1.35L5.41 20z\"/>\n",
              "  </svg>\n",
              "      </button>\n",
              "      \n",
              "  <style>\n",
              "    .colab-df-container {\n",
              "      display:flex;\n",
              "      flex-wrap:wrap;\n",
              "      gap: 12px;\n",
              "    }\n",
              "\n",
              "    .colab-df-convert {\n",
              "      background-color: #E8F0FE;\n",
              "      border: none;\n",
              "      border-radius: 50%;\n",
              "      cursor: pointer;\n",
              "      display: none;\n",
              "      fill: #1967D2;\n",
              "      height: 32px;\n",
              "      padding: 0 0 0 0;\n",
              "      width: 32px;\n",
              "    }\n",
              "\n",
              "    .colab-df-convert:hover {\n",
              "      background-color: #E2EBFA;\n",
              "      box-shadow: 0px 1px 2px rgba(60, 64, 67, 0.3), 0px 1px 3px 1px rgba(60, 64, 67, 0.15);\n",
              "      fill: #174EA6;\n",
              "    }\n",
              "\n",
              "    [theme=dark] .colab-df-convert {\n",
              "      background-color: #3B4455;\n",
              "      fill: #D2E3FC;\n",
              "    }\n",
              "\n",
              "    [theme=dark] .colab-df-convert:hover {\n",
              "      background-color: #434B5C;\n",
              "      box-shadow: 0px 1px 3px 1px rgba(0, 0, 0, 0.15);\n",
              "      filter: drop-shadow(0px 1px 2px rgba(0, 0, 0, 0.3));\n",
              "      fill: #FFFFFF;\n",
              "    }\n",
              "  </style>\n",
              "\n",
              "      <script>\n",
              "        const buttonEl =\n",
              "          document.querySelector('#df-991da281-aeec-42d0-beb5-8d1883245781 button.colab-df-convert');\n",
              "        buttonEl.style.display =\n",
              "          google.colab.kernel.accessAllowed ? 'block' : 'none';\n",
              "\n",
              "        async function convertToInteractive(key) {\n",
              "          const element = document.querySelector('#df-991da281-aeec-42d0-beb5-8d1883245781');\n",
              "          const dataTable =\n",
              "            await google.colab.kernel.invokeFunction('convertToInteractive',\n",
              "                                                     [key], {});\n",
              "          if (!dataTable) return;\n",
              "\n",
              "          const docLinkHtml = 'Like what you see? Visit the ' +\n",
              "            '<a target=\"_blank\" href=https://colab.research.google.com/notebooks/data_table.ipynb>data table notebook</a>'\n",
              "            + ' to learn more about interactive tables.';\n",
              "          element.innerHTML = '';\n",
              "          dataTable['output_type'] = 'display_data';\n",
              "          await google.colab.output.renderOutput(dataTable, element);\n",
              "          const docLink = document.createElement('div');\n",
              "          docLink.innerHTML = docLinkHtml;\n",
              "          element.appendChild(docLink);\n",
              "        }\n",
              "      </script>\n",
              "    </div>\n",
              "  </div>\n",
              "  "
            ],
            "text/plain": [
              "                 UserId   ProductId  Rating     Timestamp\n",
              "1141327  A17HMM1M7T9PJ1  B000LRMS66     3.0  1.266019e+09\n",
              "1133863  A1T1YSCDW0PD25  B000LRMS66     5.0  1.237507e+09\n",
              "1140490    A6FIAB28IS79  B000LRMS66     4.0  1.197158e+09\n",
              "1134091  A2HMF8ZR67BNZS  B000LRMS66     5.0  1.248998e+09\n",
              "1141505  A1F9Z42CFF9IAY  B000LRMS66     5.0  1.208304e+09"
            ]
          },
          "execution_count": 18,
          "metadata": {},
          "output_type": "execute_result"
        }
      ],
      "source": [
        "data.head()"
      ]
    },
    {
      "cell_type": "markdown",
      "metadata": {
        "id": "DlvQmo3NNokL"
      },
      "source": [
        "\n",
        "\n",
        "#Training\n",
        "\n"
      ]
    },
    {
      "cell_type": "markdown",
      "metadata": {
        "id": "vB7zJKp6TPp4"
      },
      "source": [
        "#SVD model\n"
      ]
    },
    {
      "cell_type": "code",
      "execution_count": null,
      "metadata": {
        "id": "wOUAQFaoNril"
      },
      "outputs": [],
      "source": [
        "# train-test split\n",
        "reader = Reader(rating_scale=(1, 5))\n",
        "surprise_data = Dataset.load_from_df(data[['UserId', 'ProductId', 'Rating']], reader)\n",
        "trainset, testset = train_test_split(surprise_data, test_size=.30, random_state=7)"
      ]
    },
    {
      "cell_type": "code",
      "execution_count": null,
      "metadata": {
        "colab": {
          "base_uri": "https://localhost:8080/"
        },
        "id": "aM16-zeCT0WS",
        "outputId": "ba2f4e32-a60d-4a24-d516-ec30096d5a65"
      },
      "outputs": [
        {
          "name": "stdout",
          "output_type": "stream",
          "text": [
            "0.8549414927665844\n",
            "{'n_epochs': 25, 'lr_all': 0.009, 'reg_all': 0.4}\n"
          ]
        }
      ],
      "source": [
        "svd_param_grid = {'n_epochs': [20, 25], 'lr_all': [0.007, 0.009, 0.01], 'reg_all': [0.4, 0.6]}\n",
        "\n",
        "svd_gs = RandomizedSearchCV(SVD, svd_param_grid, measures=['rmse', 'mae'], cv=5, n_jobs=5)\n",
        "#GridSearchCV(SVD, svd_param_grid, measures=['rmse', 'mae'], cv=5, n_jobs=5)\n",
        "#svdpp_gs = GridSearchCV(SVDpp, svd_param_grid, measures=['rmse', 'mae'], cv=5, n_jobs=5)\n",
        "\n",
        "svd_gs.fit(surprise_data)\n",
        "#svdpp_gs.fit(surprise_data)\n",
        "\n",
        "# best RMSE score\n",
        "print(svd_gs.best_score['rmse'])\n",
        "#print(svdpp_gs.best_score['rmse'])\n",
        "\n",
        "# combination of parameters that gave the best RMSE score\n",
        "print(svd_gs.best_params['rmse'])\n",
        "#print(svdpp_gs.best_params['rmse'])"
      ]
    },
    {
      "cell_type": "code",
      "execution_count": null,
      "metadata": {
        "colab": {
          "base_uri": "https://localhost:8080/",
          "height": 318
        },
        "id": "juX3uyQBUCgv",
        "outputId": "1f57bc65-08bf-42c7-f627-6b5c53c81671"
      },
      "outputs": [
        {
          "name": "stdout",
          "output_type": "stream",
          "text": [
            "Evaluating RMSE, MAE of algorithm SVD on 5 split(s).\n",
            "\n",
            "                  Fold 1  Fold 2  Fold 3  Fold 4  Fold 5  Mean    Std     \n",
            "RMSE (testset)    0.8728  0.8695  0.8429  0.8456  0.8634  0.8589  0.0123  \n",
            "MAE (testset)     0.6341  0.6365  0.6229  0.6230  0.6319  0.6297  0.0057  \n",
            "Fit time          0.37    0.40    0.38    0.38    0.38    0.38    0.01    \n",
            "Test time         0.05    0.04    0.06    0.04    0.04    0.05    0.01    \n",
            "\n",
            "\n",
            "==================== Model Evaluation ===============================\n",
            "RMSE: 0.8680\n",
            "=====================================================================\n",
            "\n",
            " Computational Time : 3.330s\n"
          ]
        },
        {
          "data": {
            "text/html": [
              "\n",
              "  <div id=\"df-b78c9212-c670-419f-93c0-a0c1c1676601\">\n",
              "    <div class=\"colab-df-container\">\n",
              "      <div>\n",
              "<style scoped>\n",
              "    .dataframe tbody tr th:only-of-type {\n",
              "        vertical-align: middle;\n",
              "    }\n",
              "\n",
              "    .dataframe tbody tr th {\n",
              "        vertical-align: top;\n",
              "    }\n",
              "\n",
              "    .dataframe thead th {\n",
              "        text-align: right;\n",
              "    }\n",
              "</style>\n",
              "<table border=\"1\" class=\"dataframe\">\n",
              "  <thead>\n",
              "    <tr style=\"text-align: right;\">\n",
              "      <th></th>\n",
              "      <th>Model</th>\n",
              "      <th>RMSE</th>\n",
              "      <th>MAE</th>\n",
              "      <th>Fit Time</th>\n",
              "      <th>Test Time</th>\n",
              "    </tr>\n",
              "  </thead>\n",
              "  <tbody>\n",
              "    <tr>\n",
              "      <th>0</th>\n",
              "      <td>SVD</td>\n",
              "      <td>0.858865</td>\n",
              "      <td>0.629686</td>\n",
              "      <td>0.382623</td>\n",
              "      <td>0.048349</td>\n",
              "    </tr>\n",
              "  </tbody>\n",
              "</table>\n",
              "</div>\n",
              "      <button class=\"colab-df-convert\" onclick=\"convertToInteractive('df-b78c9212-c670-419f-93c0-a0c1c1676601')\"\n",
              "              title=\"Convert this dataframe to an interactive table.\"\n",
              "              style=\"display:none;\">\n",
              "        \n",
              "  <svg xmlns=\"http://www.w3.org/2000/svg\" height=\"24px\"viewBox=\"0 0 24 24\"\n",
              "       width=\"24px\">\n",
              "    <path d=\"M0 0h24v24H0V0z\" fill=\"none\"/>\n",
              "    <path d=\"M18.56 5.44l.94 2.06.94-2.06 2.06-.94-2.06-.94-.94-2.06-.94 2.06-2.06.94zm-11 1L8.5 8.5l.94-2.06 2.06-.94-2.06-.94L8.5 2.5l-.94 2.06-2.06.94zm10 10l.94 2.06.94-2.06 2.06-.94-2.06-.94-.94-2.06-.94 2.06-2.06.94z\"/><path d=\"M17.41 7.96l-1.37-1.37c-.4-.4-.92-.59-1.43-.59-.52 0-1.04.2-1.43.59L10.3 9.45l-7.72 7.72c-.78.78-.78 2.05 0 2.83L4 21.41c.39.39.9.59 1.41.59.51 0 1.02-.2 1.41-.59l7.78-7.78 2.81-2.81c.8-.78.8-2.07 0-2.86zM5.41 20L4 18.59l7.72-7.72 1.47 1.35L5.41 20z\"/>\n",
              "  </svg>\n",
              "      </button>\n",
              "      \n",
              "  <style>\n",
              "    .colab-df-container {\n",
              "      display:flex;\n",
              "      flex-wrap:wrap;\n",
              "      gap: 12px;\n",
              "    }\n",
              "\n",
              "    .colab-df-convert {\n",
              "      background-color: #E8F0FE;\n",
              "      border: none;\n",
              "      border-radius: 50%;\n",
              "      cursor: pointer;\n",
              "      display: none;\n",
              "      fill: #1967D2;\n",
              "      height: 32px;\n",
              "      padding: 0 0 0 0;\n",
              "      width: 32px;\n",
              "    }\n",
              "\n",
              "    .colab-df-convert:hover {\n",
              "      background-color: #E2EBFA;\n",
              "      box-shadow: 0px 1px 2px rgba(60, 64, 67, 0.3), 0px 1px 3px 1px rgba(60, 64, 67, 0.15);\n",
              "      fill: #174EA6;\n",
              "    }\n",
              "\n",
              "    [theme=dark] .colab-df-convert {\n",
              "      background-color: #3B4455;\n",
              "      fill: #D2E3FC;\n",
              "    }\n",
              "\n",
              "    [theme=dark] .colab-df-convert:hover {\n",
              "      background-color: #434B5C;\n",
              "      box-shadow: 0px 1px 3px 1px rgba(0, 0, 0, 0.15);\n",
              "      filter: drop-shadow(0px 1px 2px rgba(0, 0, 0, 0.3));\n",
              "      fill: #FFFFFF;\n",
              "    }\n",
              "  </style>\n",
              "\n",
              "      <script>\n",
              "        const buttonEl =\n",
              "          document.querySelector('#df-b78c9212-c670-419f-93c0-a0c1c1676601 button.colab-df-convert');\n",
              "        buttonEl.style.display =\n",
              "          google.colab.kernel.accessAllowed ? 'block' : 'none';\n",
              "\n",
              "        async function convertToInteractive(key) {\n",
              "          const element = document.querySelector('#df-b78c9212-c670-419f-93c0-a0c1c1676601');\n",
              "          const dataTable =\n",
              "            await google.colab.kernel.invokeFunction('convertToInteractive',\n",
              "                                                     [key], {});\n",
              "          if (!dataTable) return;\n",
              "\n",
              "          const docLinkHtml = 'Like what you see? Visit the ' +\n",
              "            '<a target=\"_blank\" href=https://colab.research.google.com/notebooks/data_table.ipynb>data table notebook</a>'\n",
              "            + ' to learn more about interactive tables.';\n",
              "          element.innerHTML = '';\n",
              "          dataTable['output_type'] = 'display_data';\n",
              "          await google.colab.output.renderOutput(dataTable, element);\n",
              "          const docLink = document.createElement('div');\n",
              "          docLink.innerHTML = docLinkHtml;\n",
              "          element.appendChild(docLink);\n",
              "        }\n",
              "      </script>\n",
              "    </div>\n",
              "  </div>\n",
              "  "
            ],
            "text/plain": [
              "  Model      RMSE       MAE  Fit Time  Test Time\n",
              "0   SVD  0.858865  0.629686  0.382623   0.048349"
            ]
          },
          "execution_count": 37,
          "metadata": {},
          "output_type": "execute_result"
        }
      ],
      "source": [
        "import time \n",
        "\n",
        "start_time = time.time()\n",
        "\n",
        "# Creating Model using best parameters\n",
        "svd_model = SVD(n_epochs=20, lr_all=0.005, reg_all=0.2)\n",
        "\n",
        "# Training the algorithm on the trainset\n",
        "svd_model.fit(trainset)\n",
        "\n",
        "\n",
        "# Predicting for test set\n",
        "predictions_svd = svd_model.test(testset)\n",
        "\n",
        "# Evaluating RMSE, MAE of algorithm SVD on 5 split(s) by cross validation\n",
        "svd_cv = cross_validate(svd_model, surprise_data, measures=['RMSE', 'MAE'], cv=5, verbose=True)\n",
        "\n",
        "# Storing Crossvalidation Results in dataframe\n",
        "svd_df = pd.DataFrame.from_dict(svd_cv)\n",
        "svd_described = svd_df.describe()\n",
        "cv_results = pd.DataFrame([['SVD', svd_described['test_rmse']['mean'], svd_described['test_mae']['mean'], \n",
        "                           svd_described['fit_time']['mean'], svd_described['test_time']['mean']]],\n",
        "                            columns = ['Model', 'RMSE', 'MAE', 'Fit Time', 'Test Time'])\n",
        "\n",
        "# get RMSE\n",
        "print(\"\\n\\n==================== Model Evaluation ===============================\")\n",
        "accuracy.rmse(predictions_svd, verbose=True)\n",
        "print(\"=====================================================================\")\n",
        "computational_time = time.time() - start_time\n",
        "print('\\n Computational Time : %0.3fs' %(computational_time))\n",
        "cv_results"
      ]
    },
    {
      "cell_type": "markdown",
      "metadata": {
        "id": "GwG02w0t5dmM"
      },
      "source": [
        "#KNN"
      ]
    },
    {
      "cell_type": "code",
      "source": [
        "# filtering\n",
        "# taking only users who have given more than 30 ratings\n",
        "users_counts = df['UserId'].value_counts().rename('users_counts')\n",
        "users_data   = df.merge(users_counts,left_on='UserId',right_index=True)\n",
        "df_filtered = users_data[users_data.users_counts >= 50]\n",
        "\n",
        "\n",
        "# taking only products which have received 10 or more ratings\n",
        "rating_counts = df_filtered['ProductId'].value_counts().rename('rating_counts')\n",
        "product_rating_data   = df_filtered.merge(rating_counts,left_on='ProductId',right_index=True)\n",
        "df_filtered_final = product_rating_data[product_rating_data.rating_counts >= 15]\n",
        "\n",
        "\n",
        "data = df_filtered_final.drop(['users_counts', 'rating_counts'], axis=1)"
      ],
      "metadata": {
        "id": "DA-6R79T4UVM"
      },
      "execution_count": null,
      "outputs": []
    },
    {
      "cell_type": "code",
      "source": [
        "# train-test split\n",
        "reader = Reader(rating_scale=(1, 5))\n",
        "surprise_data = Dataset.load_from_df(data[['UserId', 'ProductId', 'Rating']], reader)\n",
        "trainset, testset = train_test_split(surprise_data, test_size=.30, random_state=7)"
      ],
      "metadata": {
        "id": "CvrZJh9p4nal"
      },
      "execution_count": null,
      "outputs": []
    },
    {
      "cell_type": "code",
      "source": [
        "from surprise.model_selection import RandomizedSearchCV\n",
        "from surprise.prediction_algorithms.knns import KNNBasic, KNNWithMeans, KNNWithZScore"
      ],
      "metadata": {
        "id": "NEID6yUm46sT"
      },
      "execution_count": null,
      "outputs": []
    },
    {
      "cell_type": "code",
      "source": [
        "knn_param_grid = {'bsl_options': {'method': ['als', 'sgd'],\n",
        "                              'reg': [1, 2]},\n",
        "              'k': [15, 20, 25, 30, 40, 50, 60],\n",
        "              'sim_options': {'name': ['msd', 'cosine', 'pearson_baseline']}\n",
        "              }\n",
        "\n",
        "knnbasic_rs = RandomizedSearchCV(KNNBasic, knn_param_grid, measures=['rmse', 'mae'], cv=5, n_jobs=5)\n",
        "knnmeans_rs = RandomizedSearchCV(KNNWithMeans, knn_param_grid, measures=['rmse', 'mae'], cv=5, n_jobs=5)\n",
        "knnz_rs     = RandomizedSearchCV(KNNWithZScore, knn_param_grid, measures=['rmse', 'mae'], cv=5, n_jobs=5)\n",
        "\n",
        "\n",
        "knnbasic_rs.fit(surprise_data)\n",
        "knnmeans_rs.fit(surprise_data)\n",
        "knnz_rs.fit(surprise_data)\n",
        "\n",
        "# best RMSE score\n",
        "print(knnbasic_rs.best_score['rmse'])\n",
        "print(knnmeans_rs.best_score['rmse'])\n",
        "print(knnz_rs.best_score['rmse'])\n",
        "\n",
        "# combination of parameters that gave the best RMSE score\n",
        "print(knnbasic_rs.best_params['rmse'])\n",
        "print(knnmeans_rs.best_params['rmse'])\n",
        "print(knnz_rs.best_params['rmse'])"
      ],
      "metadata": {
        "colab": {
          "base_uri": "https://localhost:8080/"
        },
        "id": "oaslbnJA4ymX",
        "outputId": "cc733cf5-012a-4803-c9ba-671389e7c93c"
      },
      "execution_count": null,
      "outputs": [
        {
          "output_type": "stream",
          "name": "stdout",
          "text": [
            "0.9343240353011077\n",
            "0.8944727331943818\n",
            "0.905923815167386\n",
            "{'bsl_options': {'method': 'als', 'reg': 1}, 'k': 30, 'sim_options': {'name': 'cosine', 'user_based': True}}\n",
            "{'bsl_options': {'method': 'als', 'reg': 2}, 'k': 40, 'sim_options': {'name': 'cosine', 'user_based': True}}\n",
            "{'bsl_options': {'method': 'als', 'reg': 2}, 'k': 50, 'sim_options': {'name': 'cosine', 'user_based': True}}\n"
          ]
        }
      ]
    },
    {
      "cell_type": "code",
      "source": [
        "cv_knn = pd.DataFrame()"
      ],
      "metadata": {
        "id": "UgAsI2Hy5nVk"
      },
      "execution_count": null,
      "outputs": []
    },
    {
      "cell_type": "code",
      "source": [
        "# Creating Model using best parameters\n",
        "knnBasic_model = KNNBasic(bsl_options = {'method': 'als', 'reg': 1}, k=30, sim_options={'name': 'cosine', 'user_based': True})\n",
        "\n",
        "# Training the algorithm on the trainset\n",
        "knnBasic_model.fit(trainset)\n",
        "\n",
        "# Predicting for test set\n",
        "prediction_knnBasic = knnBasic_model.test(testset)\n",
        "\n",
        "# Evaluating RMSE, MAE of algorithm KNNBasic on 5 split(s)\n",
        "knnBasic_cv = cross_validate(knnBasic_model, surprise_data, measures=['RMSE', 'MAE'], cv=5, verbose=True)\n",
        "\n",
        "# Storing Crossvalidation Results in dataframe\n",
        "knnBasic_df = pd.DataFrame.from_dict(knnBasic_cv)\n",
        "knnBasic_described = knnBasic_df.describe()\n",
        "knnBasic_cv_results = pd.DataFrame([['KNNBasic', knnBasic_described['test_rmse']['mean'], knnBasic_described['test_mae']['mean'], \n",
        "                           knnBasic_described['fit_time']['mean'], knnBasic_described['test_time']['mean']]],\n",
        "                            columns = ['Model', 'RMSE', 'MAE', 'Fit Time', 'Test Time'])\n",
        "\n",
        "cv_knn = cv_knn.append(knnBasic_cv_results, ignore_index=True)\n",
        "\n",
        "# get RMSE\n",
        "print(\"\\n\\n==================== Model Evaluation ===============================\")\n",
        "accuracy.rmse(prediction_knnBasic, verbose=True)\n",
        "print(\"=====================================================================\")\n",
        "\n",
        "cv_knn"
      ],
      "metadata": {
        "colab": {
          "base_uri": "https://localhost:8080/",
          "height": 565
        },
        "id": "F_4CMXqA7tK_",
        "outputId": "dad7d68a-3dcc-4d1a-cfd1-87a879e24abd"
      },
      "execution_count": null,
      "outputs": [
        {
          "output_type": "stream",
          "name": "stdout",
          "text": [
            "Computing the cosine similarity matrix...\n",
            "Done computing similarity matrix.\n",
            "Computing the cosine similarity matrix...\n",
            "Done computing similarity matrix.\n",
            "Computing the cosine similarity matrix...\n",
            "Done computing similarity matrix.\n",
            "Computing the cosine similarity matrix...\n",
            "Done computing similarity matrix.\n",
            "Computing the cosine similarity matrix...\n",
            "Done computing similarity matrix.\n",
            "Computing the cosine similarity matrix...\n",
            "Done computing similarity matrix.\n",
            "Evaluating RMSE, MAE of algorithm KNNBasic on 5 split(s).\n",
            "\n",
            "                  Fold 1  Fold 2  Fold 3  Fold 4  Fold 5  Mean    Std     \n",
            "RMSE (testset)    0.9144  0.9418  0.9479  0.9005  0.9537  0.9317  0.0206  \n",
            "MAE (testset)     0.6547  0.6735  0.6780  0.6505  0.6798  0.6673  0.0123  \n",
            "Fit time          0.09    0.09    0.10    0.09    0.09    0.09    0.00    \n",
            "Test time         0.28    0.29    0.27    0.29    0.28    0.28    0.01    \n",
            "\n",
            "\n",
            "==================== Model Evaluation ===============================\n",
            "RMSE: 0.9712\n",
            "=====================================================================\n"
          ]
        },
        {
          "output_type": "stream",
          "name": "stderr",
          "text": [
            "<ipython-input-30-95ade247caf2>:20: FutureWarning: The frame.append method is deprecated and will be removed from pandas in a future version. Use pandas.concat instead.\n",
            "  cv_knn = cv_knn.append(knnBasic_cv_results, ignore_index=True)\n"
          ]
        },
        {
          "output_type": "execute_result",
          "data": {
            "text/plain": [
              "      Model      RMSE       MAE  Fit Time  Test Time\n",
              "0  KNNBasic  0.931673  0.667306  0.092646   0.282793"
            ],
            "text/html": [
              "\n",
              "  <div id=\"df-01fd2fcf-7d9b-4b3d-b2fa-e4d8ddc1132f\">\n",
              "    <div class=\"colab-df-container\">\n",
              "      <div>\n",
              "<style scoped>\n",
              "    .dataframe tbody tr th:only-of-type {\n",
              "        vertical-align: middle;\n",
              "    }\n",
              "\n",
              "    .dataframe tbody tr th {\n",
              "        vertical-align: top;\n",
              "    }\n",
              "\n",
              "    .dataframe thead th {\n",
              "        text-align: right;\n",
              "    }\n",
              "</style>\n",
              "<table border=\"1\" class=\"dataframe\">\n",
              "  <thead>\n",
              "    <tr style=\"text-align: right;\">\n",
              "      <th></th>\n",
              "      <th>Model</th>\n",
              "      <th>RMSE</th>\n",
              "      <th>MAE</th>\n",
              "      <th>Fit Time</th>\n",
              "      <th>Test Time</th>\n",
              "    </tr>\n",
              "  </thead>\n",
              "  <tbody>\n",
              "    <tr>\n",
              "      <th>0</th>\n",
              "      <td>KNNBasic</td>\n",
              "      <td>0.931673</td>\n",
              "      <td>0.667306</td>\n",
              "      <td>0.092646</td>\n",
              "      <td>0.282793</td>\n",
              "    </tr>\n",
              "  </tbody>\n",
              "</table>\n",
              "</div>\n",
              "      <button class=\"colab-df-convert\" onclick=\"convertToInteractive('df-01fd2fcf-7d9b-4b3d-b2fa-e4d8ddc1132f')\"\n",
              "              title=\"Convert this dataframe to an interactive table.\"\n",
              "              style=\"display:none;\">\n",
              "        \n",
              "  <svg xmlns=\"http://www.w3.org/2000/svg\" height=\"24px\"viewBox=\"0 0 24 24\"\n",
              "       width=\"24px\">\n",
              "    <path d=\"M0 0h24v24H0V0z\" fill=\"none\"/>\n",
              "    <path d=\"M18.56 5.44l.94 2.06.94-2.06 2.06-.94-2.06-.94-.94-2.06-.94 2.06-2.06.94zm-11 1L8.5 8.5l.94-2.06 2.06-.94-2.06-.94L8.5 2.5l-.94 2.06-2.06.94zm10 10l.94 2.06.94-2.06 2.06-.94-2.06-.94-.94-2.06-.94 2.06-2.06.94z\"/><path d=\"M17.41 7.96l-1.37-1.37c-.4-.4-.92-.59-1.43-.59-.52 0-1.04.2-1.43.59L10.3 9.45l-7.72 7.72c-.78.78-.78 2.05 0 2.83L4 21.41c.39.39.9.59 1.41.59.51 0 1.02-.2 1.41-.59l7.78-7.78 2.81-2.81c.8-.78.8-2.07 0-2.86zM5.41 20L4 18.59l7.72-7.72 1.47 1.35L5.41 20z\"/>\n",
              "  </svg>\n",
              "      </button>\n",
              "      \n",
              "  <style>\n",
              "    .colab-df-container {\n",
              "      display:flex;\n",
              "      flex-wrap:wrap;\n",
              "      gap: 12px;\n",
              "    }\n",
              "\n",
              "    .colab-df-convert {\n",
              "      background-color: #E8F0FE;\n",
              "      border: none;\n",
              "      border-radius: 50%;\n",
              "      cursor: pointer;\n",
              "      display: none;\n",
              "      fill: #1967D2;\n",
              "      height: 32px;\n",
              "      padding: 0 0 0 0;\n",
              "      width: 32px;\n",
              "    }\n",
              "\n",
              "    .colab-df-convert:hover {\n",
              "      background-color: #E2EBFA;\n",
              "      box-shadow: 0px 1px 2px rgba(60, 64, 67, 0.3), 0px 1px 3px 1px rgba(60, 64, 67, 0.15);\n",
              "      fill: #174EA6;\n",
              "    }\n",
              "\n",
              "    [theme=dark] .colab-df-convert {\n",
              "      background-color: #3B4455;\n",
              "      fill: #D2E3FC;\n",
              "    }\n",
              "\n",
              "    [theme=dark] .colab-df-convert:hover {\n",
              "      background-color: #434B5C;\n",
              "      box-shadow: 0px 1px 3px 1px rgba(0, 0, 0, 0.15);\n",
              "      filter: drop-shadow(0px 1px 2px rgba(0, 0, 0, 0.3));\n",
              "      fill: #FFFFFF;\n",
              "    }\n",
              "  </style>\n",
              "\n",
              "      <script>\n",
              "        const buttonEl =\n",
              "          document.querySelector('#df-01fd2fcf-7d9b-4b3d-b2fa-e4d8ddc1132f button.colab-df-convert');\n",
              "        buttonEl.style.display =\n",
              "          google.colab.kernel.accessAllowed ? 'block' : 'none';\n",
              "\n",
              "        async function convertToInteractive(key) {\n",
              "          const element = document.querySelector('#df-01fd2fcf-7d9b-4b3d-b2fa-e4d8ddc1132f');\n",
              "          const dataTable =\n",
              "            await google.colab.kernel.invokeFunction('convertToInteractive',\n",
              "                                                     [key], {});\n",
              "          if (!dataTable) return;\n",
              "\n",
              "          const docLinkHtml = 'Like what you see? Visit the ' +\n",
              "            '<a target=\"_blank\" href=https://colab.research.google.com/notebooks/data_table.ipynb>data table notebook</a>'\n",
              "            + ' to learn more about interactive tables.';\n",
              "          element.innerHTML = '';\n",
              "          dataTable['output_type'] = 'display_data';\n",
              "          await google.colab.output.renderOutput(dataTable, element);\n",
              "          const docLink = document.createElement('div');\n",
              "          docLink.innerHTML = docLinkHtml;\n",
              "          element.appendChild(docLink);\n",
              "        }\n",
              "      </script>\n",
              "    </div>\n",
              "  </div>\n",
              "  "
            ]
          },
          "metadata": {},
          "execution_count": 30
        }
      ]
    },
    {
      "cell_type": "code",
      "source": [
        "# Creating Model using best parameters\n",
        "knnZscore_model = KNNWithZScore(bsl_options = {'method': 'als', 'reg': 2}, k=50, sim_options={'name': 'cosine', 'user_based': True})\n",
        "\n",
        "# Training the algorithm on the trainset\n",
        "knnZscore_model.fit(trainset)\n",
        "\n",
        "# Predicting for testset\n",
        "prediction_knnZscore = knnZscore_model.test(testset)\n",
        "\n",
        "# Evaluating RMSE, MAE of algorithm KNNWithZScore on 5 split(s)\n",
        "knnZscore_cv = cross_validate(knnZscore_model, surprise_data, measures=['RMSE', 'MAE'], cv=5, verbose=True)\n",
        "\n",
        "# Storing Crossvalidation Results in dataframe\n",
        "knnZscore_df = pd.DataFrame.from_dict(knnZscore_cv)\n",
        "knnZscore_described = knnZscore_df.describe()\n",
        "knnZscore_cv_results = pd.DataFrame([['KNNWithZScore', knnZscore_described['test_rmse']['mean'], knnZscore_described['test_mae']['mean'], \n",
        "                           knnZscore_described['fit_time']['mean'], knnZscore_described['test_time']['mean']]],\n",
        "                            columns = ['Model', 'RMSE', 'MAE', 'Fit Time', 'Test Time'])\n",
        "\n",
        "cv_knn = cv_knn.append(knnZscore_cv_results, ignore_index=True)\n",
        "\n",
        "# get RMSE\n",
        "print(\"\\n\\n==================== Model Evaluation ===============================\")\n",
        "accuracy.rmse(prediction_knnZscore, verbose=True)\n",
        "print(\"=====================================================================\")\n",
        "\n",
        "cv_knn"
      ],
      "metadata": {
        "colab": {
          "base_uri": "https://localhost:8080/",
          "height": 596
        },
        "id": "pFA-1m9E8qsd",
        "outputId": "05661320-62df-4191-9083-c78a7200c7b0"
      },
      "execution_count": null,
      "outputs": [
        {
          "output_type": "stream",
          "name": "stdout",
          "text": [
            "Computing the cosine similarity matrix...\n",
            "Done computing similarity matrix.\n",
            "Computing the cosine similarity matrix...\n",
            "Done computing similarity matrix.\n",
            "Computing the cosine similarity matrix...\n",
            "Done computing similarity matrix.\n",
            "Computing the cosine similarity matrix...\n",
            "Done computing similarity matrix.\n",
            "Computing the cosine similarity matrix...\n",
            "Done computing similarity matrix.\n",
            "Computing the cosine similarity matrix...\n",
            "Done computing similarity matrix.\n",
            "Evaluating RMSE, MAE of algorithm KNNWithZScore on 5 split(s).\n",
            "\n",
            "                  Fold 1  Fold 2  Fold 3  Fold 4  Fold 5  Mean    Std     \n",
            "RMSE (testset)    0.8981  0.8948  0.9299  0.8999  0.9108  0.9067  0.0128  \n",
            "MAE (testset)     0.6213  0.6184  0.6417  0.6191  0.6238  0.6249  0.0086  \n",
            "Fit time          0.19    0.19    0.18    0.19    0.21    0.19    0.01    \n",
            "Test time         0.36    0.36    0.33    0.35    0.38    0.36    0.02    \n",
            "\n",
            "\n",
            "==================== Model Evaluation ===============================\n",
            "RMSE: 0.9368\n",
            "=====================================================================\n"
          ]
        },
        {
          "output_type": "stream",
          "name": "stderr",
          "text": [
            "<ipython-input-31-b13fcae4f46e>:20: FutureWarning: The frame.append method is deprecated and will be removed from pandas in a future version. Use pandas.concat instead.\n",
            "  cv_knn = cv_knn.append(knnZscore_cv_results, ignore_index=True)\n"
          ]
        },
        {
          "output_type": "execute_result",
          "data": {
            "text/plain": [
              "           Model      RMSE       MAE  Fit Time  Test Time\n",
              "0       KNNBasic  0.931673  0.667306  0.092646   0.282793\n",
              "1  KNNWithZScore  0.906680  0.624884  0.190490   0.356369"
            ],
            "text/html": [
              "\n",
              "  <div id=\"df-4b9a6bbc-765b-4ac1-9c7f-2bf09f603797\">\n",
              "    <div class=\"colab-df-container\">\n",
              "      <div>\n",
              "<style scoped>\n",
              "    .dataframe tbody tr th:only-of-type {\n",
              "        vertical-align: middle;\n",
              "    }\n",
              "\n",
              "    .dataframe tbody tr th {\n",
              "        vertical-align: top;\n",
              "    }\n",
              "\n",
              "    .dataframe thead th {\n",
              "        text-align: right;\n",
              "    }\n",
              "</style>\n",
              "<table border=\"1\" class=\"dataframe\">\n",
              "  <thead>\n",
              "    <tr style=\"text-align: right;\">\n",
              "      <th></th>\n",
              "      <th>Model</th>\n",
              "      <th>RMSE</th>\n",
              "      <th>MAE</th>\n",
              "      <th>Fit Time</th>\n",
              "      <th>Test Time</th>\n",
              "    </tr>\n",
              "  </thead>\n",
              "  <tbody>\n",
              "    <tr>\n",
              "      <th>0</th>\n",
              "      <td>KNNBasic</td>\n",
              "      <td>0.931673</td>\n",
              "      <td>0.667306</td>\n",
              "      <td>0.092646</td>\n",
              "      <td>0.282793</td>\n",
              "    </tr>\n",
              "    <tr>\n",
              "      <th>1</th>\n",
              "      <td>KNNWithZScore</td>\n",
              "      <td>0.906680</td>\n",
              "      <td>0.624884</td>\n",
              "      <td>0.190490</td>\n",
              "      <td>0.356369</td>\n",
              "    </tr>\n",
              "  </tbody>\n",
              "</table>\n",
              "</div>\n",
              "      <button class=\"colab-df-convert\" onclick=\"convertToInteractive('df-4b9a6bbc-765b-4ac1-9c7f-2bf09f603797')\"\n",
              "              title=\"Convert this dataframe to an interactive table.\"\n",
              "              style=\"display:none;\">\n",
              "        \n",
              "  <svg xmlns=\"http://www.w3.org/2000/svg\" height=\"24px\"viewBox=\"0 0 24 24\"\n",
              "       width=\"24px\">\n",
              "    <path d=\"M0 0h24v24H0V0z\" fill=\"none\"/>\n",
              "    <path d=\"M18.56 5.44l.94 2.06.94-2.06 2.06-.94-2.06-.94-.94-2.06-.94 2.06-2.06.94zm-11 1L8.5 8.5l.94-2.06 2.06-.94-2.06-.94L8.5 2.5l-.94 2.06-2.06.94zm10 10l.94 2.06.94-2.06 2.06-.94-2.06-.94-.94-2.06-.94 2.06-2.06.94z\"/><path d=\"M17.41 7.96l-1.37-1.37c-.4-.4-.92-.59-1.43-.59-.52 0-1.04.2-1.43.59L10.3 9.45l-7.72 7.72c-.78.78-.78 2.05 0 2.83L4 21.41c.39.39.9.59 1.41.59.51 0 1.02-.2 1.41-.59l7.78-7.78 2.81-2.81c.8-.78.8-2.07 0-2.86zM5.41 20L4 18.59l7.72-7.72 1.47 1.35L5.41 20z\"/>\n",
              "  </svg>\n",
              "      </button>\n",
              "      \n",
              "  <style>\n",
              "    .colab-df-container {\n",
              "      display:flex;\n",
              "      flex-wrap:wrap;\n",
              "      gap: 12px;\n",
              "    }\n",
              "\n",
              "    .colab-df-convert {\n",
              "      background-color: #E8F0FE;\n",
              "      border: none;\n",
              "      border-radius: 50%;\n",
              "      cursor: pointer;\n",
              "      display: none;\n",
              "      fill: #1967D2;\n",
              "      height: 32px;\n",
              "      padding: 0 0 0 0;\n",
              "      width: 32px;\n",
              "    }\n",
              "\n",
              "    .colab-df-convert:hover {\n",
              "      background-color: #E2EBFA;\n",
              "      box-shadow: 0px 1px 2px rgba(60, 64, 67, 0.3), 0px 1px 3px 1px rgba(60, 64, 67, 0.15);\n",
              "      fill: #174EA6;\n",
              "    }\n",
              "\n",
              "    [theme=dark] .colab-df-convert {\n",
              "      background-color: #3B4455;\n",
              "      fill: #D2E3FC;\n",
              "    }\n",
              "\n",
              "    [theme=dark] .colab-df-convert:hover {\n",
              "      background-color: #434B5C;\n",
              "      box-shadow: 0px 1px 3px 1px rgba(0, 0, 0, 0.15);\n",
              "      filter: drop-shadow(0px 1px 2px rgba(0, 0, 0, 0.3));\n",
              "      fill: #FFFFFF;\n",
              "    }\n",
              "  </style>\n",
              "\n",
              "      <script>\n",
              "        const buttonEl =\n",
              "          document.querySelector('#df-4b9a6bbc-765b-4ac1-9c7f-2bf09f603797 button.colab-df-convert');\n",
              "        buttonEl.style.display =\n",
              "          google.colab.kernel.accessAllowed ? 'block' : 'none';\n",
              "\n",
              "        async function convertToInteractive(key) {\n",
              "          const element = document.querySelector('#df-4b9a6bbc-765b-4ac1-9c7f-2bf09f603797');\n",
              "          const dataTable =\n",
              "            await google.colab.kernel.invokeFunction('convertToInteractive',\n",
              "                                                     [key], {});\n",
              "          if (!dataTable) return;\n",
              "\n",
              "          const docLinkHtml = 'Like what you see? Visit the ' +\n",
              "            '<a target=\"_blank\" href=https://colab.research.google.com/notebooks/data_table.ipynb>data table notebook</a>'\n",
              "            + ' to learn more about interactive tables.';\n",
              "          element.innerHTML = '';\n",
              "          dataTable['output_type'] = 'display_data';\n",
              "          await google.colab.output.renderOutput(dataTable, element);\n",
              "          const docLink = document.createElement('div');\n",
              "          docLink.innerHTML = docLinkHtml;\n",
              "          element.appendChild(docLink);\n",
              "        }\n",
              "      </script>\n",
              "    </div>\n",
              "  </div>\n",
              "  "
            ]
          },
          "metadata": {},
          "execution_count": 31
        }
      ]
    },
    {
      "cell_type": "code",
      "source": [
        "# Creating Model using best parameters\n",
        "knnMeansUU_model = KNNWithMeans(bsl_options = {'method': 'als', 'reg': 2}, k=40, sim_options={'name': 'cosine', 'user_based': True})\n",
        "\n",
        "# Training the algorithm on the trainset\n",
        "knnMeansUU_model.fit(trainset)\n",
        "\n",
        "# Predicting for testset\n",
        "prediction_knnMeansUU = knnMeansUU_model.test(testset)\n",
        "\n",
        "# Evaluating RMSE, MAE of algorithm KNNWithMeans User-User on 5 split(s)\n",
        "knnMeansUU_cv = cross_validate(knnMeansUU_model, surprise_data, measures=['RMSE', 'MAE'], cv=5, verbose=True)\n",
        "\n",
        "# Storing Crossvalidation Results in dataframe\n",
        "knnMeansUU_df = pd.DataFrame.from_dict(knnMeansUU_cv)\n",
        "knnMeansUU_described = knnMeansUU_df.describe()\n",
        "knnMeansUU_cv_results = pd.DataFrame([['KNNWithMeans User-User', knnMeansUU_described['test_rmse']['mean'], knnMeansUU_described['test_mae']['mean'], \n",
        "                           knnMeansUU_described['fit_time']['mean'], knnMeansUU_described['test_time']['mean']]],\n",
        "                            columns = ['Model', 'RMSE', 'MAE', 'Fit Time', 'Test Time'])\n",
        "\n",
        "cv_knn = cv_knn.append(knnMeansUU_cv_results, ignore_index=True)\n",
        "\n",
        "# get RMSE\n",
        "print(\"\\n\\n==================== Model Evaluation ===============================\")\n",
        "accuracy.rmse(prediction_knnMeansUU, verbose=True)\n",
        "print(\"=====================================================================\")\n",
        "\n",
        "cv_knn"
      ],
      "metadata": {
        "colab": {
          "base_uri": "https://localhost:8080/",
          "height": 628
        },
        "id": "A0qDSxvW9XLE",
        "outputId": "9bdb3c19-599c-41d7-df9e-279c46e99357"
      },
      "execution_count": null,
      "outputs": [
        {
          "output_type": "stream",
          "name": "stdout",
          "text": [
            "Computing the cosine similarity matrix...\n",
            "Done computing similarity matrix.\n",
            "Computing the cosine similarity matrix...\n",
            "Done computing similarity matrix.\n",
            "Computing the cosine similarity matrix...\n",
            "Done computing similarity matrix.\n",
            "Computing the cosine similarity matrix...\n",
            "Done computing similarity matrix.\n",
            "Computing the cosine similarity matrix...\n",
            "Done computing similarity matrix.\n",
            "Computing the cosine similarity matrix...\n",
            "Done computing similarity matrix.\n",
            "Evaluating RMSE, MAE of algorithm KNNWithMeans on 5 split(s).\n",
            "\n",
            "                  Fold 1  Fold 2  Fold 3  Fold 4  Fold 5  Mean    Std     \n",
            "RMSE (testset)    0.8817  0.9002  0.8990  0.8951  0.9046  0.8961  0.0078  \n",
            "MAE (testset)     0.6216  0.6280  0.6256  0.6203  0.6299  0.6251  0.0037  \n",
            "Fit time          0.12    0.13    0.12    0.11    0.12    0.12    0.01    \n",
            "Test time         0.30    0.32    0.29    0.29    0.29    0.30    0.01    \n",
            "\n",
            "\n",
            "==================== Model Evaluation ===============================\n",
            "RMSE: 0.9304\n",
            "=====================================================================\n"
          ]
        },
        {
          "output_type": "stream",
          "name": "stderr",
          "text": [
            "<ipython-input-32-8409557d39d4>:20: FutureWarning: The frame.append method is deprecated and will be removed from pandas in a future version. Use pandas.concat instead.\n",
            "  cv_knn = cv_knn.append(knnMeansUU_cv_results, ignore_index=True)\n"
          ]
        },
        {
          "output_type": "execute_result",
          "data": {
            "text/plain": [
              "                    Model      RMSE       MAE  Fit Time  Test Time\n",
              "0                KNNBasic  0.931673  0.667306  0.092646   0.282793\n",
              "1           KNNWithZScore  0.906680  0.624884  0.190490   0.356369\n",
              "2  KNNWithMeans User-User  0.896105  0.625106  0.119678   0.296670"
            ],
            "text/html": [
              "\n",
              "  <div id=\"df-37e3784e-a8d2-4e79-aeaf-31dd5d023fb2\">\n",
              "    <div class=\"colab-df-container\">\n",
              "      <div>\n",
              "<style scoped>\n",
              "    .dataframe tbody tr th:only-of-type {\n",
              "        vertical-align: middle;\n",
              "    }\n",
              "\n",
              "    .dataframe tbody tr th {\n",
              "        vertical-align: top;\n",
              "    }\n",
              "\n",
              "    .dataframe thead th {\n",
              "        text-align: right;\n",
              "    }\n",
              "</style>\n",
              "<table border=\"1\" class=\"dataframe\">\n",
              "  <thead>\n",
              "    <tr style=\"text-align: right;\">\n",
              "      <th></th>\n",
              "      <th>Model</th>\n",
              "      <th>RMSE</th>\n",
              "      <th>MAE</th>\n",
              "      <th>Fit Time</th>\n",
              "      <th>Test Time</th>\n",
              "    </tr>\n",
              "  </thead>\n",
              "  <tbody>\n",
              "    <tr>\n",
              "      <th>0</th>\n",
              "      <td>KNNBasic</td>\n",
              "      <td>0.931673</td>\n",
              "      <td>0.667306</td>\n",
              "      <td>0.092646</td>\n",
              "      <td>0.282793</td>\n",
              "    </tr>\n",
              "    <tr>\n",
              "      <th>1</th>\n",
              "      <td>KNNWithZScore</td>\n",
              "      <td>0.906680</td>\n",
              "      <td>0.624884</td>\n",
              "      <td>0.190490</td>\n",
              "      <td>0.356369</td>\n",
              "    </tr>\n",
              "    <tr>\n",
              "      <th>2</th>\n",
              "      <td>KNNWithMeans User-User</td>\n",
              "      <td>0.896105</td>\n",
              "      <td>0.625106</td>\n",
              "      <td>0.119678</td>\n",
              "      <td>0.296670</td>\n",
              "    </tr>\n",
              "  </tbody>\n",
              "</table>\n",
              "</div>\n",
              "      <button class=\"colab-df-convert\" onclick=\"convertToInteractive('df-37e3784e-a8d2-4e79-aeaf-31dd5d023fb2')\"\n",
              "              title=\"Convert this dataframe to an interactive table.\"\n",
              "              style=\"display:none;\">\n",
              "        \n",
              "  <svg xmlns=\"http://www.w3.org/2000/svg\" height=\"24px\"viewBox=\"0 0 24 24\"\n",
              "       width=\"24px\">\n",
              "    <path d=\"M0 0h24v24H0V0z\" fill=\"none\"/>\n",
              "    <path d=\"M18.56 5.44l.94 2.06.94-2.06 2.06-.94-2.06-.94-.94-2.06-.94 2.06-2.06.94zm-11 1L8.5 8.5l.94-2.06 2.06-.94-2.06-.94L8.5 2.5l-.94 2.06-2.06.94zm10 10l.94 2.06.94-2.06 2.06-.94-2.06-.94-.94-2.06-.94 2.06-2.06.94z\"/><path d=\"M17.41 7.96l-1.37-1.37c-.4-.4-.92-.59-1.43-.59-.52 0-1.04.2-1.43.59L10.3 9.45l-7.72 7.72c-.78.78-.78 2.05 0 2.83L4 21.41c.39.39.9.59 1.41.59.51 0 1.02-.2 1.41-.59l7.78-7.78 2.81-2.81c.8-.78.8-2.07 0-2.86zM5.41 20L4 18.59l7.72-7.72 1.47 1.35L5.41 20z\"/>\n",
              "  </svg>\n",
              "      </button>\n",
              "      \n",
              "  <style>\n",
              "    .colab-df-container {\n",
              "      display:flex;\n",
              "      flex-wrap:wrap;\n",
              "      gap: 12px;\n",
              "    }\n",
              "\n",
              "    .colab-df-convert {\n",
              "      background-color: #E8F0FE;\n",
              "      border: none;\n",
              "      border-radius: 50%;\n",
              "      cursor: pointer;\n",
              "      display: none;\n",
              "      fill: #1967D2;\n",
              "      height: 32px;\n",
              "      padding: 0 0 0 0;\n",
              "      width: 32px;\n",
              "    }\n",
              "\n",
              "    .colab-df-convert:hover {\n",
              "      background-color: #E2EBFA;\n",
              "      box-shadow: 0px 1px 2px rgba(60, 64, 67, 0.3), 0px 1px 3px 1px rgba(60, 64, 67, 0.15);\n",
              "      fill: #174EA6;\n",
              "    }\n",
              "\n",
              "    [theme=dark] .colab-df-convert {\n",
              "      background-color: #3B4455;\n",
              "      fill: #D2E3FC;\n",
              "    }\n",
              "\n",
              "    [theme=dark] .colab-df-convert:hover {\n",
              "      background-color: #434B5C;\n",
              "      box-shadow: 0px 1px 3px 1px rgba(0, 0, 0, 0.15);\n",
              "      filter: drop-shadow(0px 1px 2px rgba(0, 0, 0, 0.3));\n",
              "      fill: #FFFFFF;\n",
              "    }\n",
              "  </style>\n",
              "\n",
              "      <script>\n",
              "        const buttonEl =\n",
              "          document.querySelector('#df-37e3784e-a8d2-4e79-aeaf-31dd5d023fb2 button.colab-df-convert');\n",
              "        buttonEl.style.display =\n",
              "          google.colab.kernel.accessAllowed ? 'block' : 'none';\n",
              "\n",
              "        async function convertToInteractive(key) {\n",
              "          const element = document.querySelector('#df-37e3784e-a8d2-4e79-aeaf-31dd5d023fb2');\n",
              "          const dataTable =\n",
              "            await google.colab.kernel.invokeFunction('convertToInteractive',\n",
              "                                                     [key], {});\n",
              "          if (!dataTable) return;\n",
              "\n",
              "          const docLinkHtml = 'Like what you see? Visit the ' +\n",
              "            '<a target=\"_blank\" href=https://colab.research.google.com/notebooks/data_table.ipynb>data table notebook</a>'\n",
              "            + ' to learn more about interactive tables.';\n",
              "          element.innerHTML = '';\n",
              "          dataTable['output_type'] = 'display_data';\n",
              "          await google.colab.output.renderOutput(dataTable, element);\n",
              "          const docLink = document.createElement('div');\n",
              "          docLink.innerHTML = docLinkHtml;\n",
              "          element.appendChild(docLink);\n",
              "        }\n",
              "      </script>\n",
              "    </div>\n",
              "  </div>\n",
              "  "
            ]
          },
          "metadata": {},
          "execution_count": 32
        }
      ]
    },
    {
      "cell_type": "code",
      "source": [
        "# Creating Model using best parameters\n",
        "knnMeansII_model = KNNWithMeans(bsl_options = {'method': 'als', 'reg': 2}, k=40, sim_options={'name': 'cosine', 'user_based': True})\n",
        "\n",
        "# Training the algorithm on the trainset\n",
        "knnMeansII_model.fit(trainset)\n",
        "\n",
        "# Predicting for testset\n",
        "prediction_knnMeansII = knnMeansII_model.test(testset)\n",
        "\n",
        "# Evaluating RMSE, MAE of algorithm KNNWithMeans Item-Item on 5 split(s)\n",
        "knnMeansII_cv = cross_validate(knnMeansII_model, surprise_data, measures=['RMSE', 'MAE'], cv=5, verbose=True)\n",
        "\n",
        "# Storing Crossvalidation Results in dataframe\n",
        "knnMeansII_df = pd.DataFrame.from_dict(knnMeansII_cv)\n",
        "knnMeansII_described = knnMeansII_df.describe()\n",
        "knnMeansII_cv_results = pd.DataFrame([['KNNWithMeans Item-Item', knnMeansII_described['test_rmse']['mean'], knnMeansII_described['test_mae']['mean'], \n",
        "                           knnMeansII_described['fit_time']['mean'], knnMeansII_described['test_time']['mean']]],\n",
        "                            columns = ['Model', 'RMSE', 'MAE', 'Fit Time', 'Test Time'])\n",
        "\n",
        "cv_knn = cv_knn.append(knnMeansII_cv_results, ignore_index=True)\n",
        "\n",
        "# get RMSE\n",
        "print(\"\\n\\n==================== Model Evaluation ===============================\")\n",
        "accuracy.rmse(prediction_knnMeansII, verbose=True)\n",
        "print(\"=====================================================================\")\n",
        "\n",
        "cv_knn"
      ],
      "metadata": {
        "colab": {
          "base_uri": "https://localhost:8080/",
          "height": 659
        },
        "id": "XXrqq-bF94lN",
        "outputId": "5b44e81e-e55f-474a-ee4f-e90a04938001"
      },
      "execution_count": null,
      "outputs": [
        {
          "output_type": "stream",
          "name": "stdout",
          "text": [
            "Computing the cosine similarity matrix...\n",
            "Done computing similarity matrix.\n",
            "Computing the cosine similarity matrix...\n",
            "Done computing similarity matrix.\n",
            "Computing the cosine similarity matrix...\n",
            "Done computing similarity matrix.\n",
            "Computing the cosine similarity matrix...\n",
            "Done computing similarity matrix.\n",
            "Computing the cosine similarity matrix...\n",
            "Done computing similarity matrix.\n",
            "Computing the cosine similarity matrix...\n",
            "Done computing similarity matrix.\n",
            "Evaluating RMSE, MAE of algorithm KNNWithMeans on 5 split(s).\n",
            "\n",
            "                  Fold 1  Fold 2  Fold 3  Fold 4  Fold 5  Mean    Std     \n",
            "RMSE (testset)    0.8991  0.8924  0.8838  0.8805  0.9179  0.8948  0.0133  \n",
            "MAE (testset)     0.6262  0.6268  0.6198  0.6148  0.6344  0.6244  0.0067  \n",
            "Fit time          0.12    0.14    0.12    0.12    0.12    0.12    0.01    \n",
            "Test time         0.32    0.30    0.30    1.10    0.29    0.46    0.32    \n",
            "\n",
            "\n",
            "==================== Model Evaluation ===============================\n",
            "RMSE: 0.9304\n",
            "=====================================================================\n"
          ]
        },
        {
          "output_type": "stream",
          "name": "stderr",
          "text": [
            "<ipython-input-33-39a173cdfabe>:20: FutureWarning: The frame.append method is deprecated and will be removed from pandas in a future version. Use pandas.concat instead.\n",
            "  cv_knn = cv_knn.append(knnMeansII_cv_results, ignore_index=True)\n"
          ]
        },
        {
          "output_type": "execute_result",
          "data": {
            "text/plain": [
              "                    Model      RMSE       MAE  Fit Time  Test Time\n",
              "0                KNNBasic  0.931673  0.667306  0.092646   0.282793\n",
              "1           KNNWithZScore  0.906680  0.624884  0.190490   0.356369\n",
              "2  KNNWithMeans User-User  0.896105  0.625106  0.119678   0.296670\n",
              "3  KNNWithMeans Item-Item  0.894759  0.624393  0.122886   0.461556"
            ],
            "text/html": [
              "\n",
              "  <div id=\"df-0fc89063-b82b-4fac-a1eb-05040a4e4850\">\n",
              "    <div class=\"colab-df-container\">\n",
              "      <div>\n",
              "<style scoped>\n",
              "    .dataframe tbody tr th:only-of-type {\n",
              "        vertical-align: middle;\n",
              "    }\n",
              "\n",
              "    .dataframe tbody tr th {\n",
              "        vertical-align: top;\n",
              "    }\n",
              "\n",
              "    .dataframe thead th {\n",
              "        text-align: right;\n",
              "    }\n",
              "</style>\n",
              "<table border=\"1\" class=\"dataframe\">\n",
              "  <thead>\n",
              "    <tr style=\"text-align: right;\">\n",
              "      <th></th>\n",
              "      <th>Model</th>\n",
              "      <th>RMSE</th>\n",
              "      <th>MAE</th>\n",
              "      <th>Fit Time</th>\n",
              "      <th>Test Time</th>\n",
              "    </tr>\n",
              "  </thead>\n",
              "  <tbody>\n",
              "    <tr>\n",
              "      <th>0</th>\n",
              "      <td>KNNBasic</td>\n",
              "      <td>0.931673</td>\n",
              "      <td>0.667306</td>\n",
              "      <td>0.092646</td>\n",
              "      <td>0.282793</td>\n",
              "    </tr>\n",
              "    <tr>\n",
              "      <th>1</th>\n",
              "      <td>KNNWithZScore</td>\n",
              "      <td>0.906680</td>\n",
              "      <td>0.624884</td>\n",
              "      <td>0.190490</td>\n",
              "      <td>0.356369</td>\n",
              "    </tr>\n",
              "    <tr>\n",
              "      <th>2</th>\n",
              "      <td>KNNWithMeans User-User</td>\n",
              "      <td>0.896105</td>\n",
              "      <td>0.625106</td>\n",
              "      <td>0.119678</td>\n",
              "      <td>0.296670</td>\n",
              "    </tr>\n",
              "    <tr>\n",
              "      <th>3</th>\n",
              "      <td>KNNWithMeans Item-Item</td>\n",
              "      <td>0.894759</td>\n",
              "      <td>0.624393</td>\n",
              "      <td>0.122886</td>\n",
              "      <td>0.461556</td>\n",
              "    </tr>\n",
              "  </tbody>\n",
              "</table>\n",
              "</div>\n",
              "      <button class=\"colab-df-convert\" onclick=\"convertToInteractive('df-0fc89063-b82b-4fac-a1eb-05040a4e4850')\"\n",
              "              title=\"Convert this dataframe to an interactive table.\"\n",
              "              style=\"display:none;\">\n",
              "        \n",
              "  <svg xmlns=\"http://www.w3.org/2000/svg\" height=\"24px\"viewBox=\"0 0 24 24\"\n",
              "       width=\"24px\">\n",
              "    <path d=\"M0 0h24v24H0V0z\" fill=\"none\"/>\n",
              "    <path d=\"M18.56 5.44l.94 2.06.94-2.06 2.06-.94-2.06-.94-.94-2.06-.94 2.06-2.06.94zm-11 1L8.5 8.5l.94-2.06 2.06-.94-2.06-.94L8.5 2.5l-.94 2.06-2.06.94zm10 10l.94 2.06.94-2.06 2.06-.94-2.06-.94-.94-2.06-.94 2.06-2.06.94z\"/><path d=\"M17.41 7.96l-1.37-1.37c-.4-.4-.92-.59-1.43-.59-.52 0-1.04.2-1.43.59L10.3 9.45l-7.72 7.72c-.78.78-.78 2.05 0 2.83L4 21.41c.39.39.9.59 1.41.59.51 0 1.02-.2 1.41-.59l7.78-7.78 2.81-2.81c.8-.78.8-2.07 0-2.86zM5.41 20L4 18.59l7.72-7.72 1.47 1.35L5.41 20z\"/>\n",
              "  </svg>\n",
              "      </button>\n",
              "      \n",
              "  <style>\n",
              "    .colab-df-container {\n",
              "      display:flex;\n",
              "      flex-wrap:wrap;\n",
              "      gap: 12px;\n",
              "    }\n",
              "\n",
              "    .colab-df-convert {\n",
              "      background-color: #E8F0FE;\n",
              "      border: none;\n",
              "      border-radius: 50%;\n",
              "      cursor: pointer;\n",
              "      display: none;\n",
              "      fill: #1967D2;\n",
              "      height: 32px;\n",
              "      padding: 0 0 0 0;\n",
              "      width: 32px;\n",
              "    }\n",
              "\n",
              "    .colab-df-convert:hover {\n",
              "      background-color: #E2EBFA;\n",
              "      box-shadow: 0px 1px 2px rgba(60, 64, 67, 0.3), 0px 1px 3px 1px rgba(60, 64, 67, 0.15);\n",
              "      fill: #174EA6;\n",
              "    }\n",
              "\n",
              "    [theme=dark] .colab-df-convert {\n",
              "      background-color: #3B4455;\n",
              "      fill: #D2E3FC;\n",
              "    }\n",
              "\n",
              "    [theme=dark] .colab-df-convert:hover {\n",
              "      background-color: #434B5C;\n",
              "      box-shadow: 0px 1px 3px 1px rgba(0, 0, 0, 0.15);\n",
              "      filter: drop-shadow(0px 1px 2px rgba(0, 0, 0, 0.3));\n",
              "      fill: #FFFFFF;\n",
              "    }\n",
              "  </style>\n",
              "\n",
              "      <script>\n",
              "        const buttonEl =\n",
              "          document.querySelector('#df-0fc89063-b82b-4fac-a1eb-05040a4e4850 button.colab-df-convert');\n",
              "        buttonEl.style.display =\n",
              "          google.colab.kernel.accessAllowed ? 'block' : 'none';\n",
              "\n",
              "        async function convertToInteractive(key) {\n",
              "          const element = document.querySelector('#df-0fc89063-b82b-4fac-a1eb-05040a4e4850');\n",
              "          const dataTable =\n",
              "            await google.colab.kernel.invokeFunction('convertToInteractive',\n",
              "                                                     [key], {});\n",
              "          if (!dataTable) return;\n",
              "\n",
              "          const docLinkHtml = 'Like what you see? Visit the ' +\n",
              "            '<a target=\"_blank\" href=https://colab.research.google.com/notebooks/data_table.ipynb>data table notebook</a>'\n",
              "            + ' to learn more about interactive tables.';\n",
              "          element.innerHTML = '';\n",
              "          dataTable['output_type'] = 'display_data';\n",
              "          await google.colab.output.renderOutput(dataTable, element);\n",
              "          const docLink = document.createElement('div');\n",
              "          docLink.innerHTML = docLinkHtml;\n",
              "          element.appendChild(docLink);\n",
              "        }\n",
              "      </script>\n",
              "    </div>\n",
              "  </div>\n",
              "  "
            ]
          },
          "metadata": {},
          "execution_count": 33
        }
      ]
    },
    {
      "cell_type": "markdown",
      "metadata": {
        "id": "oIGSJQX1ECf7"
      },
      "source": [
        "KNN using Timestamp\n"
      ]
    },
    {
      "cell_type": "code",
      "execution_count": null,
      "metadata": {
        "id": "TfpKgRLOEArw",
        "colab": {
          "base_uri": "https://localhost:8080/"
        },
        "outputId": "9fafc054-2cbb-4e3c-b189-780d7fb106ca"
      },
      "outputs": [
        {
          "output_type": "stream",
          "name": "stdout",
          "text": [
            "{'weights': 'uniform', 'p': 2, 'n_neighbors': 60, 'metric': 'euclidean'}\n"
          ]
        }
      ],
      "source": [
        "import pandas as pd\n",
        "from sklearn.neighbors import KNeighborsRegressor\n",
        "from sklearn.model_selection import RandomizedSearchCV\n",
        "from sklearn.metrics import mean_squared_error\n",
        "from scipy.stats import randint\n",
        "from sklearn.preprocessing import StandardScaler\n",
        "\n",
        "# filtering\n",
        "# taking only users who have given more than 30 ratings\n",
        "users_counts = df['UserId'].value_counts().rename('users_counts')\n",
        "users_data   = df.merge(users_counts,left_on='UserId',right_index=True)\n",
        "df_filtered = users_data[users_data.users_counts >= 50]\n",
        "\n",
        "\n",
        "# taking only products which have received 10 or more ratings\n",
        "rating_counts = df_filtered['ProductId'].value_counts().rename('rating_counts')\n",
        "product_rating_data   = df_filtered.merge(rating_counts,left_on='ProductId',right_index=True)\n",
        "df_filtered_final = product_rating_data[product_rating_data.rating_counts >= 15]\n",
        "\n",
        "\n",
        "data = df_filtered_final.drop(['users_counts', 'rating_counts'], axis=1)\n",
        "\n",
        "# convert UserId and ProductId columns to numeric values\n",
        "data['UserId'] = pd.factorize(data['UserId'])[0]\n",
        "data['ProductId'] = pd.factorize(data['ProductId'])[0]\n",
        "\n",
        "# preprocess the timestamp values\n",
        "data['Timestamp'] = pd.to_datetime(data['Timestamp'], unit='s')\n",
        "data['Year'] = data['Timestamp'].dt.year\n",
        "data['Month'] = data['Timestamp'].dt.month\n",
        "data['Day'] = data['Timestamp'].dt.day\n",
        "data['Hour'] = data['Timestamp'].dt.hour\n",
        "data['Minute'] = data['Timestamp'].dt.minute\n",
        "data['Second'] = data['Timestamp'].dt.second\n",
        "data = data.drop(['Timestamp'], axis=1)\n",
        "\n",
        "# feature engineering\n",
        "user_rating_mean = data.groupby('UserId')['Rating'].mean()\n",
        "data['user_rating_mean'] = data['UserId'].apply(lambda x: user_rating_mean[x])\n",
        "product_rating_mean = data.groupby('ProductId')['Rating'].mean()\n",
        "data['product_rating_mean'] = data['ProductId'].apply(lambda x: product_rating_mean[x])\n",
        "user_rating_count = data.groupby('UserId')['Rating'].count()\n",
        "data['user_rating_count'] = data['UserId'].apply(lambda x: user_rating_count[x])\n",
        "product_rating_count = data.groupby('ProductId')['Rating'].count()\n",
        "data['product_rating_count'] = data['ProductId'].apply(lambda x: product_rating_count[x])\n",
        "\n",
        "# define the features and target variables\n",
        "X = data[['UserId', 'ProductId', 'Year', 'Month', 'Day', 'Hour', 'Minute', 'Second', 'user_rating_mean', 'product_rating_mean', 'user_rating_count', 'product_rating_count']]\n",
        "y = data['Rating']\n",
        "\n",
        "# normalization\n",
        "scaler = StandardScaler()\n",
        "X = scaler.fit_transform(X)\n",
        "\n",
        "# define the hyperparameter space\n",
        "param_dist = {\n",
        "    'n_neighbors': [15, 20, 25, 30, 40, 50, 60],\n",
        "    'weights': ['uniform'],\n",
        "    'metric': ['euclidean', 'manhattan', 'minkowski','cosine'],\n",
        "    'p': [1, 2, 3],\n",
        "}\n",
        "\n",
        "# create a KNN regressor\n",
        "knn = KNeighborsRegressor()\n",
        "\n",
        "# perform a random search to find the best hyperparameters\n",
        "random_search = RandomizedSearchCV(knn, param_distributions=param_dist, n_iter=20, cv=5, n_jobs=5)\n",
        "random_search.fit(X, y)\n",
        "\n",
        "# get the best hyperparameters\n",
        "best_params = random_search.best_params_\n",
        "\n",
        "print(best_params)\n"
      ]
    },
    {
      "cell_type": "code",
      "execution_count": null,
      "metadata": {
        "colab": {
          "base_uri": "https://localhost:8080/"
        },
        "id": "kabUJ_CYJUSu",
        "outputId": "8d7ffdfa-4d52-4207-a4b6-ea0820aa4558"
      },
      "outputs": [
        {
          "output_type": "stream",
          "name": "stdout",
          "text": [
            "{'weights': 'uniform', 'p': 2, 'n_neighbors': 60, 'metric': 'euclidean'}\n",
            "RMSE: 0.7878\n"
          ]
        }
      ],
      "source": [
        "# create a new KNN regressor with the best hyperparameters\n",
        "knn = KNeighborsRegressor(**best_params)\n",
        "\n",
        "# fit the model to the data\n",
        "knn.fit(X, y)\n",
        "\n",
        "# predict the ratings for all users and products in the data\n",
        "y_pred = knn.predict(X)\n",
        "\n",
        "# compute the root mean squared error\n",
        "rmse = mean_squared_error(y, y_pred, squared=False)\n",
        "\n",
        "# print the RMSE\n",
        "print(best_params)\n",
        "print(f'RMSE: {rmse:.4f}')"
      ]
    }
  ],
  "metadata": {
    "colab": {
      "provenance": [],
      "machine_shape": "hm"
    },
    "kernelspec": {
      "display_name": "Python 3",
      "name": "python3"
    },
    "language_info": {
      "name": "python"
    },
    "gpuClass": "premium"
  },
  "nbformat": 4,
  "nbformat_minor": 0
}